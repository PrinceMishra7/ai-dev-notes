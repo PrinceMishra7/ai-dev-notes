{
 "cells": [
  {
   "cell_type": "code",
   "execution_count": null,
   "metadata": {
    "colab": {
     "base_uri": "https://localhost:8080/"
    },
    "collapsed": true,
    "executionInfo": {
     "elapsed": 13291,
     "status": "ok",
     "timestamp": 1757148204202,
     "user": {
      "displayName": "Prince Mishra",
      "userId": "04325043553259611750"
     },
     "user_tz": -330
    },
    "id": "D2ihMma-L7WR",
    "outputId": "90b8a7f6-679a-4980-ad3f-29c72fe1a662"
   },
   "outputs": [
    {
     "name": "stdout",
     "output_type": "stream",
     "text": [
      "Collecting langgraph\n",
      "  Downloading langgraph-0.6.6-py3-none-any.whl.metadata (6.8 kB)\n",
      "Requirement already satisfied: langchain-core>=0.1 in /usr/local/lib/python3.12/dist-packages (from langgraph) (0.3.75)\n",
      "Collecting langgraph-checkpoint<3.0.0,>=2.1.0 (from langgraph)\n",
      "  Downloading langgraph_checkpoint-2.1.1-py3-none-any.whl.metadata (4.2 kB)\n",
      "Collecting langgraph-prebuilt<0.7.0,>=0.6.0 (from langgraph)\n",
      "  Downloading langgraph_prebuilt-0.6.4-py3-none-any.whl.metadata (4.5 kB)\n",
      "Collecting langgraph-sdk<0.3.0,>=0.2.2 (from langgraph)\n",
      "  Downloading langgraph_sdk-0.2.6-py3-none-any.whl.metadata (1.5 kB)\n",
      "Requirement already satisfied: pydantic>=2.7.4 in /usr/local/lib/python3.12/dist-packages (from langgraph) (2.11.7)\n",
      "Requirement already satisfied: xxhash>=3.5.0 in /usr/local/lib/python3.12/dist-packages (from langgraph) (3.5.0)\n",
      "Requirement already satisfied: langsmith>=0.3.45 in /usr/local/lib/python3.12/dist-packages (from langchain-core>=0.1->langgraph) (0.4.23)\n",
      "Requirement already satisfied: tenacity!=8.4.0,<10.0.0,>=8.1.0 in /usr/local/lib/python3.12/dist-packages (from langchain-core>=0.1->langgraph) (8.5.0)\n",
      "Requirement already satisfied: jsonpatch<2.0,>=1.33 in /usr/local/lib/python3.12/dist-packages (from langchain-core>=0.1->langgraph) (1.33)\n",
      "Requirement already satisfied: PyYAML>=5.3 in /usr/local/lib/python3.12/dist-packages (from langchain-core>=0.1->langgraph) (6.0.2)\n",
      "Requirement already satisfied: typing-extensions>=4.7 in /usr/local/lib/python3.12/dist-packages (from langchain-core>=0.1->langgraph) (4.15.0)\n",
      "Requirement already satisfied: packaging>=23.2 in /usr/local/lib/python3.12/dist-packages (from langchain-core>=0.1->langgraph) (25.0)\n",
      "Collecting ormsgpack>=1.10.0 (from langgraph-checkpoint<3.0.0,>=2.1.0->langgraph)\n",
      "  Downloading ormsgpack-1.10.0-cp312-cp312-manylinux_2_17_x86_64.manylinux2014_x86_64.whl.metadata (43 kB)\n",
      "\u001b[2K     \u001b[90m━━━━━━━━━━━━━━━━━━━━━━━━━━━━━━━━━━━━━━━━\u001b[0m \u001b[32m43.7/43.7 kB\u001b[0m \u001b[31m2.3 MB/s\u001b[0m eta \u001b[36m0:00:00\u001b[0m\n",
      "\u001b[?25hRequirement already satisfied: httpx>=0.25.2 in /usr/local/lib/python3.12/dist-packages (from langgraph-sdk<0.3.0,>=0.2.2->langgraph) (0.28.1)\n",
      "Requirement already satisfied: orjson>=3.10.1 in /usr/local/lib/python3.12/dist-packages (from langgraph-sdk<0.3.0,>=0.2.2->langgraph) (3.11.3)\n",
      "Requirement already satisfied: annotated-types>=0.6.0 in /usr/local/lib/python3.12/dist-packages (from pydantic>=2.7.4->langgraph) (0.7.0)\n",
      "Requirement already satisfied: pydantic-core==2.33.2 in /usr/local/lib/python3.12/dist-packages (from pydantic>=2.7.4->langgraph) (2.33.2)\n",
      "Requirement already satisfied: typing-inspection>=0.4.0 in /usr/local/lib/python3.12/dist-packages (from pydantic>=2.7.4->langgraph) (0.4.1)\n",
      "Requirement already satisfied: anyio in /usr/local/lib/python3.12/dist-packages (from httpx>=0.25.2->langgraph-sdk<0.3.0,>=0.2.2->langgraph) (4.10.0)\n",
      "Requirement already satisfied: certifi in /usr/local/lib/python3.12/dist-packages (from httpx>=0.25.2->langgraph-sdk<0.3.0,>=0.2.2->langgraph) (2025.8.3)\n",
      "Requirement already satisfied: httpcore==1.* in /usr/local/lib/python3.12/dist-packages (from httpx>=0.25.2->langgraph-sdk<0.3.0,>=0.2.2->langgraph) (1.0.9)\n",
      "Requirement already satisfied: idna in /usr/local/lib/python3.12/dist-packages (from httpx>=0.25.2->langgraph-sdk<0.3.0,>=0.2.2->langgraph) (3.10)\n",
      "Requirement already satisfied: h11>=0.16 in /usr/local/lib/python3.12/dist-packages (from httpcore==1.*->httpx>=0.25.2->langgraph-sdk<0.3.0,>=0.2.2->langgraph) (0.16.0)\n",
      "Requirement already satisfied: jsonpointer>=1.9 in /usr/local/lib/python3.12/dist-packages (from jsonpatch<2.0,>=1.33->langchain-core>=0.1->langgraph) (3.0.0)\n",
      "Requirement already satisfied: requests-toolbelt>=1.0.0 in /usr/local/lib/python3.12/dist-packages (from langsmith>=0.3.45->langchain-core>=0.1->langgraph) (1.0.0)\n",
      "Requirement already satisfied: requests>=2.0.0 in /usr/local/lib/python3.12/dist-packages (from langsmith>=0.3.45->langchain-core>=0.1->langgraph) (2.32.4)\n",
      "Requirement already satisfied: zstandard>=0.23.0 in /usr/local/lib/python3.12/dist-packages (from langsmith>=0.3.45->langchain-core>=0.1->langgraph) (0.24.0)\n",
      "Requirement already satisfied: charset_normalizer<4,>=2 in /usr/local/lib/python3.12/dist-packages (from requests>=2.0.0->langsmith>=0.3.45->langchain-core>=0.1->langgraph) (3.4.3)\n",
      "Requirement already satisfied: urllib3<3,>=1.21.1 in /usr/local/lib/python3.12/dist-packages (from requests>=2.0.0->langsmith>=0.3.45->langchain-core>=0.1->langgraph) (2.5.0)\n",
      "Requirement already satisfied: sniffio>=1.1 in /usr/local/lib/python3.12/dist-packages (from anyio->httpx>=0.25.2->langgraph-sdk<0.3.0,>=0.2.2->langgraph) (1.3.1)\n",
      "Downloading langgraph-0.6.6-py3-none-any.whl (153 kB)\n",
      "\u001b[2K   \u001b[90m━━━━━━━━━━━━━━━━━━━━━━━━━━━━━━━━━━━━━━━━\u001b[0m \u001b[32m153.3/153.3 kB\u001b[0m \u001b[31m6.9 MB/s\u001b[0m eta \u001b[36m0:00:00\u001b[0m\n",
      "\u001b[?25hDownloading langgraph_checkpoint-2.1.1-py3-none-any.whl (43 kB)\n",
      "\u001b[2K   \u001b[90m━━━━━━━━━━━━━━━━━━━━━━━━━━━━━━━━━━━━━━━━\u001b[0m \u001b[32m43.9/43.9 kB\u001b[0m \u001b[31m3.2 MB/s\u001b[0m eta \u001b[36m0:00:00\u001b[0m\n",
      "\u001b[?25hDownloading langgraph_prebuilt-0.6.4-py3-none-any.whl (28 kB)\n",
      "Downloading langgraph_sdk-0.2.6-py3-none-any.whl (54 kB)\n",
      "\u001b[2K   \u001b[90m━━━━━━━━━━━━━━━━━━━━━━━━━━━━━━━━━━━━━━━━\u001b[0m \u001b[32m54.6/54.6 kB\u001b[0m \u001b[31m3.7 MB/s\u001b[0m eta \u001b[36m0:00:00\u001b[0m\n",
      "\u001b[?25hDownloading ormsgpack-1.10.0-cp312-cp312-manylinux_2_17_x86_64.manylinux2014_x86_64.whl (216 kB)\n",
      "\u001b[2K   \u001b[90m━━━━━━━━━━━━━━━━━━━━━━━━━━━━━━━━━━━━━━━━\u001b[0m \u001b[32m216.7/216.7 kB\u001b[0m \u001b[31m16.3 MB/s\u001b[0m eta \u001b[36m0:00:00\u001b[0m\n",
      "\u001b[?25hInstalling collected packages: ormsgpack, langgraph-sdk, langgraph-checkpoint, langgraph-prebuilt, langgraph\n",
      "Successfully installed langgraph-0.6.6 langgraph-checkpoint-2.1.1 langgraph-prebuilt-0.6.4 langgraph-sdk-0.2.6 ormsgpack-1.10.0\n"
     ]
    }
   ],
   "source": [
    "from typing import TypedDict\n",
    "from langgraph.graph import StateGraph,START,END"
   ]
  },
  {
   "cell_type": "code",
   "execution_count": 4,
   "metadata": {
    "executionInfo": {
     "elapsed": 8,
     "status": "ok",
     "timestamp": 1757148273175,
     "user": {
      "displayName": "Prince Mishra",
      "userId": "04325043553259611750"
     },
     "user_tz": -330
    },
    "id": "RPFtfI86MOF3"
   },
   "outputs": [],
   "source": [
    "class AgentState(TypedDict):\n",
    "  number1:int\n",
    "  operation:str\n",
    "  number2:int\n",
    "  finalNumber:int"
   ]
  },
  {
   "cell_type": "code",
   "execution_count": 10,
   "metadata": {
    "executionInfo": {
     "elapsed": 12,
     "status": "ok",
     "timestamp": 1757153564222,
     "user": {
      "displayName": "Prince Mishra",
      "userId": "04325043553259611750"
     },
     "user_tz": -330
    },
    "id": "WhfhqVw2Mtjo"
   },
   "outputs": [],
   "source": [
    "def adder(state:AgentState)->AgentState:\n",
    "  \"\"\"This node adds the 2 numbers\"\"\"\n",
    "  state['finalNumber']=state['number1']+state['number2']\n",
    "  return state\n",
    "\n",
    "def subtractor(state:AgentState)->AgentState:\n",
    "  \"\"\"This node subtracts the 2 numbers\"\"\"\n",
    "  state['finalNumber'] = state['number1']-state['number2']\n",
    "  return state\n",
    "\n",
    "def decide_next_node(state:AgentState)->AgentState:\n",
    "  \"\"\"This node will select the next node of the graph\"\"\"\n",
    "\n",
    "  if state['operation']==\"+\":\n",
    "    return \"addition_operation\"\n",
    "  elif state['operation']==\"-\":\n",
    "    return \"subtraction_operation\"\n",
    "\n",
    "graph = StateGraph(AgentState)\n",
    "graph.add_node(\"add_node\",adder)\n",
    "graph.add_node(\"subtract_node\",subtractor)\n",
    "# graph.add_node(\"router\",decide_next_node) this is a wrong way bcoz this doesn't change the state, it returns the edge\n",
    "graph.add_node(\"router\",lambda state:state) #passthrough function\n",
    "\n",
    "graph.add_edge(START,\"router\")\n",
    "graph.add_conditional_edges(\n",
    "    \"router\",\n",
    "    decide_next_node,\n",
    "    {\n",
    "        #Edge: Node\n",
    "        \"addition_operation\":\"add_node\",\n",
    "        \"subtraction_operation\":\"subtract_node\"\n",
    "    }\n",
    ")\n",
    "\n",
    "graph.add_edge(\"add_node\",END)\n",
    "graph.add_edge(\"subtract_node\",END)\n",
    "\n",
    "app=graph.compile()"
   ]
  },
  {
   "cell_type": "code",
   "execution_count": 13,
   "metadata": {
    "colab": {
     "base_uri": "https://localhost:8080/"
    },
    "executionInfo": {
     "elapsed": 7,
     "status": "ok",
     "timestamp": 1757153608233,
     "user": {
      "displayName": "Prince Mishra",
      "userId": "04325043553259611750"
     },
     "user_tz": -330
    },
    "id": "vjE3aVzjeC0N",
    "outputId": "fe59f5d3-0a0e-447e-93d1-28b4859f46db"
   },
   "outputs": [
    {
     "name": "stdout",
     "output_type": "stream",
     "text": [
      "{'number1': 20, 'operation': '-', 'number2': 10, 'finalNumber': 10}\n"
     ]
    }
   ],
   "source": [
    "initial_state_1 = AgentState(number1=20,operation=\"-\",number2=10)\n",
    "print(app.invoke(initial_state_1))"
   ]
  },
  {
   "cell_type": "code",
   "execution_count": 15,
   "metadata": {
    "colab": {
     "base_uri": "https://localhost:8080/",
     "height": 596
    },
    "executionInfo": {
     "elapsed": 2210,
     "status": "ok",
     "timestamp": 1757163749342,
     "user": {
      "displayName": "Prince Mishra",
      "userId": "04325043553259611750"
     },
     "user_tz": -330
    },
    "id": "NE1aCB_cgviq",
    "outputId": "db4b053b-6881-44fc-e685-f9401d1beab1"
   },
   "outputs": [
    {
     "data": {
      "image/png": "[encoded data removed]",
      "text/plain": [
       "<langgraph.graph.state.CompiledStateGraph object at 0x7e7f9030b4a0>"
      ]
     },
     "execution_count": 15,
     "metadata": {},
     "output_type": "execute_result"
    }
   ],
   "source": [
    "#Exercise\n",
    "\n",
    "class AgentState2(TypedDict):\n",
    "  number1:int\n",
    "  operation:str\n",
    "  number2:int\n",
    "  number3:int\n",
    "  operation2:str\n",
    "  number4:int\n",
    "  finalNumber:int\n",
    "  finalNumber2:int\n",
    "\n",
    "graph=StateGraph(AgentState2)\n",
    "\n",
    "def add_numbers1(state:AgentState2)->AgentState2:\n",
    "  state['finalNumber']=state['number1']+state['number2']\n",
    "  return state\n",
    "\n",
    "def subtract_numbers(state:AgentState2)->AgentState2:\n",
    "  state['finalNumber']=state['number1']-state['number2']\n",
    "  return state\n",
    "\n",
    "def add_numbers2(state:AgentState2)->AgentState2:\n",
    "  state['finalNumber2']=state['number3']+state['number4']\n",
    "  return state\n",
    "\n",
    "def subtract_numbers2(state:AgentState2)->AgentState2:\n",
    "  state['finalNumber2']=state['number3']-state['number4']\n",
    "  return state\n",
    "\n",
    "def router(state:AgentState2)->AgentState2:\n",
    "  if state['operation']==\"+\":\n",
    "    return \"addition_edge\"\n",
    "  if state['operation']==\"-\":\n",
    "    return \"subtraction_edge\"\n",
    "\n",
    "def router2(state:AgentState2)->AgentState2:\n",
    "  if state['operation2']==\"+\":\n",
    "    return \"addition_edge2\"\n",
    "  if state['operation2']==\"-\":\n",
    "    return \"subtraction_edge2\"\n",
    "\n",
    "\n",
    "graph=StateGraph(AgentState2)\n",
    "graph.add_node(\"add1\",add_numbers1)\n",
    "graph.add_node(\"sub1\",subtract_numbers)\n",
    "graph.add_node(\"router1\",lambda state:state)\n",
    "\n",
    "graph.add_edge(START,\"router1\")\n",
    "\n",
    "graph.add_conditional_edges(\n",
    "    \"router1\",\n",
    "    router,\n",
    "    {\n",
    "        \"addition_edge\":\"add1\",\n",
    "        \"subtraction_edge\":\"sub1\"\n",
    "    }\n",
    ")\n",
    "\n",
    "graph.add_node(\"router2\",lambda state:state)\n",
    "\n",
    "graph.add_edge(\"add1\",\"router2\")\n",
    "graph.add_edge(\"sub1\",\"router2\")\n",
    "\n",
    "graph.add_node(\"add2\",add_numbers2)\n",
    "graph.add_node(\"sub2\",subtract_numbers2)\n",
    "\n",
    "graph.add_conditional_edges(\n",
    "    \"router2\",\n",
    "    router2,\n",
    "    {\n",
    "        \"addition_edge2\":\"add2\",\n",
    "        \"subtraction_edge2\":\"sub2\"\n",
    "    }\n",
    ")\n",
    "\n",
    "graph.add_edge(\"add2\",END)\n",
    "graph.add_edge(\"sub2\",END)\n",
    "\n",
    "graph.compile()\n"
   ]
  },
  {
   "cell_type": "code",
   "execution_count": 17,
   "metadata": {
    "colab": {
     "base_uri": "https://localhost:8080/"
    },
    "executionInfo": {
     "elapsed": 13,
     "status": "ok",
     "timestamp": 1757163937105,
     "user": {
      "displayName": "Prince Mishra",
      "userId": "04325043553259611750"
     },
     "user_tz": -330
    },
    "id": "CYW0eow9Hbkq",
    "outputId": "9bcaff2d-4ff3-41b3-c888-e3c3f73b52ac"
   },
   "outputs": [
    {
     "data": {
      "text/plain": [
       "{'number1': 20,\n",
       " 'operation': '+',\n",
       " 'number2': 10,\n",
       " 'number3': 15,\n",
       " 'number4': 5,\n",
       " 'finalNumber': 30,\n",
       " 'operation2': '-',\n",
       " 'finalNumber2': 10}"
      ]
     },
     "execution_count": 17,
     "metadata": {},
     "output_type": "execute_result"
    }
   ],
   "source": [
    "app=graph.compile()\n",
    "initial_state=AgentState2(number1=20,number2=10,operation=\"+\",number3=15,number4=5,operation2=\"-\")\n",
    "app.invoke(initial_state)"
   ]
  },
  {
   "cell_type": "code",
   "execution_count": null,
   "metadata": {
    "id": "CoJAC_fBIZHV"
   },
   "outputs": [],
   "source": []
  }
 ],
 "metadata": {
  "colab": {
   "authorship_tag": "ABX9TyNbdOwFy6Fnh30pkkHgnJt1",
   "provenance": []
  },
  "kernelspec": {
   "display_name": "Python 3",
   "name": "python3"
  },
  "language_info": {
   "name": "python"
  }
 },
 "nbformat": 4,
 "nbformat_minor": 0
}
